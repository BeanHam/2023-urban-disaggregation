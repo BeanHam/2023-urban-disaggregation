{
 "cells": [
  {
   "cell_type": "code",
   "execution_count": 1,
   "id": "f61bb306",
   "metadata": {},
   "outputs": [],
   "source": [
    "import numpy as np\n",
    "import pandas as pd\n",
    "import geopandas as gpd\n",
    "from tqdm import tqdm\n",
    "from shapely import wkt\n",
    "from pointpats import random\n",
    "from sklearn.cluster import KMeans\n",
    "from geovoronoi import voronoi_regions_from_coords, points_to_coords\n",
    "from shapely.ops import linemerge, unary_union, polygonize\n",
    "from shapely.geometry import Polygon, MultiPoint, LineString"
   ]
  },
  {
   "cell_type": "code",
   "execution_count": 2,
   "id": "37ada59c",
   "metadata": {},
   "outputs": [],
   "source": [
    "def generate_points(geom, distance_between_pts = 1e-6):\n",
    "    \n",
    "    # The setup\n",
    "    boundary = geom.boundary # Boundary of polygon as a linestring\n",
    "    boundary_length = boundary.length # Its length\n",
    "    \n",
    "    # Build a list of points spaced by 0.1 along this linestring:\n",
    "    pts_boundary = [\n",
    "        boundary.interpolate(n, False) for n\n",
    "        in np.linspace(0, boundary_length, int(boundary_length / distance_between_pts) + 1)\n",
    "    ]\n",
    "    \n",
    "    return pts_boundary\n",
    "\n",
    "def subdivide_polygon(geom):\n",
    "    points = generate_points(geom)\n",
    "    new_points = [points[0], points[int(0.5*len(points))]]\n",
    "    lines = [LineString(new_points)]\n",
    "    lines.append(geom.boundary)\n",
    "    lines = unary_union(lines)\n",
    "    lines = linemerge(lines)\n",
    "    polygons = list(polygonize(lines))\n",
    "    \n",
    "    return polygons"
   ]
  },
  {
   "cell_type": "code",
   "execution_count": 3,
   "id": "9c132e37",
   "metadata": {},
   "outputs": [],
   "source": [
    "#--------------------\n",
    "# block geodata\n",
    "#--------------------\n",
    "geodata = pd.read_csv(f'D:disaggregation-data/chicago-taxi/geodata/block.csv')\n",
    "geodata['geometry'] = geodata['geometry'].apply(wkt.loads)\n",
    "geodata = gpd.GeoDataFrame(geodata, crs='epsg:4326')\n",
    "\n",
    "#--------------------\n",
    "# parameters\n",
    "#--------------------\n",
    "seed=100\n",
    "size=1000\n",
    "n_clusters=2\n",
    "np.random.seed(seed)\n",
    "extreme_polygons = []"
   ]
  },
  {
   "cell_type": "code",
   "execution_count": 5,
   "id": "bbcc9297",
   "metadata": {},
   "outputs": [
    {
     "name": "stderr",
     "output_type": "stream",
     "text": [
      "100%|██████████████████████████████████████████████████████████████████████████████| 6810/6810 [03:23<00:00, 33.40it/s]\n"
     ]
    }
   ],
   "source": [
    "#--------------------\n",
    "# split\n",
    "#--------------------\n",
    "for geom in tqdm(geodata.geometry):\n",
    "    geom = geom.buffer(0)\n",
    "    try:\n",
    "        sub_polys = subdivide_polygon(geom)\n",
    "        for sub_poly in sub_polys:\n",
    "            if sub_poly.geom_type == 'MultiPolygon':\n",
    "                for poly in list(sub_poly.geoms):\n",
    "                    extreme_polygons.append(poly)\n",
    "            else:\n",
    "                extreme_polygons.append(sub_poly)\n",
    "    except:\n",
    "        extreme_polygons.append(geom)"
   ]
  },
  {
   "cell_type": "code",
   "execution_count": 7,
   "id": "c04aed75",
   "metadata": {},
   "outputs": [],
   "source": [
    "#--------------------\n",
    "# save model\n",
    "#--------------------\n",
    "extreme_data = pd.DataFrame(extreme_polygons, columns=['the_geom'])\n",
    "extreme_data.to_csv('D://disaggregation-data/chicago-taxi/raw-data/chicago_extreme_2010.csv', index=False)"
   ]
  }
 ],
 "metadata": {
  "kernelspec": {
   "display_name": "Python 3 (ipykernel)",
   "language": "python",
   "name": "python3"
  },
  "language_info": {
   "codemirror_mode": {
    "name": "ipython",
    "version": 3
   },
   "file_extension": ".py",
   "mimetype": "text/x-python",
   "name": "python",
   "nbconvert_exporter": "python",
   "pygments_lexer": "ipython3",
   "version": "3.9.13"
  }
 },
 "nbformat": 4,
 "nbformat_minor": 5
}
