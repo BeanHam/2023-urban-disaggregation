{
 "cells": [
  {
   "cell_type": "code",
   "execution_count": 1,
   "id": "3ca5fb1b",
   "metadata": {},
   "outputs": [],
   "source": [
    "import numpy as np\n",
    "import pandas as pd\n",
    "import torch\n",
    "import os\n",
    "from utils import *\n",
    "import matplotlib.pyplot as plt"
   ]
  },
  {
   "cell_type": "markdown",
   "id": "8d2c476a",
   "metadata": {},
   "source": [
    "### Get mean ratios"
   ]
  },
  {
   "cell_type": "code",
   "execution_count": 7,
   "id": "ca32465c",
   "metadata": {},
   "outputs": [],
   "source": [
    "data_path = '../../data-processing/reality/'"
   ]
  },
  {
   "cell_type": "code",
   "execution_count": 8,
   "id": "89e6802d",
   "metadata": {},
   "outputs": [],
   "source": [
    "def get_ratios(low_res_name, super_res_name, data_path):\n",
    "    \n",
    "    att_low_res_path = data_path+'attributes/'+low_res_name+'.npy'\n",
    "    adj_low_res_path = data_path+'adjacencies/'+low_res_name+'.npy'\n",
    "    att_super_res_path = data_path+'attributes/'+super_res_name+'.npy'\n",
    "    adj_super_res_path = data_path+'adjacencies/'+super_res_name+'.npy'\n",
    "    linkage_path = data_path+'linkages/'+low_res_name+'_'+super_res_name+'.npy'\n",
    "    dataset_train, dataset_val, dataset_test = load_data(att_low_res_path, \n",
    "                                                         adj_low_res_path, \n",
    "                                                         att_super_res_path, \n",
    "                                                         adj_super_res_path,\n",
    "                                                         linkage_path)\n",
    "    \n",
    "    low_res_data = np.load(f'../../data-processing/reality/attributes/{low_res_name}.npy')\n",
    "    low_res_geo = pd.read_csv(f'../../data-processing/reality/geodata/{low_res_name}.csv')\n",
    "    super_res_data = np.load(f'../../data-processing/reality/attributes/{super_res_name}.npy')\n",
    "    super_res_geo = pd.read_csv(f'../../data-processing/reality/geodata/{super_res_name}.csv')\n",
    "    linkage = np.load(f'../../data-processing/reality/linkages/{low_res_name}_{super_res_name}.npy')\n",
    "    X_super_max = torch.max(torch.from_numpy(np.load(att_super_res_path)).float()).numpy()\n",
    "    \n",
    "    ## calculate ratio\n",
    "    ratio_matrix = np.zeros_like(super_res_data)\n",
    "    for i in range(low_res_data.shape[1]):\n",
    "        low_res_sub = low_res_data[:,i].reshape(-1,1)\n",
    "        linkage_sub = np.where(linkage[i]==1)[0]\n",
    "        super_res_sub = super_res_data[:, linkage_sub]\n",
    "        ratio = super_res_sub/low_res_sub\n",
    "        ratio[np.isnan(ratio)] = 0\n",
    "        ratio[np.isinf(ratio)] = 0\n",
    "        ratio_matrix[:, linkage_sub] = ratio\n",
    "    \n",
    "    ## mean ratios\n",
    "    mean_ratios = np.mean(ratio_matrix, axis=0)\n",
    "    \n",
    "    ## prediction\n",
    "    criterion = nn.L1Loss()\n",
    "    pred=((dataset_test.att_low*linkage)*mean_ratios.reshape(1,-1))\n",
    "    pred = torch.sum(pred, axis=1, keepdim=True).transpose(-2,-1)\n",
    "    loss = criterion(pred, dataset_test.att_super).item()*X_super_max\n",
    "    \n",
    "    return loss"
   ]
  },
  {
   "cell_type": "code",
   "execution_count": 9,
   "id": "6a1f7e83",
   "metadata": {},
   "outputs": [
    {
     "name": "stderr",
     "output_type": "stream",
     "text": [
      "<ipython-input-8-befbb79bdca1>:27: RuntimeWarning: invalid value encountered in true_divide\n",
      "  ratio = super_res_sub/low_res_sub\n"
     ]
    },
    {
     "data": {
      "text/plain": [
       "199.48357495514492"
      ]
     },
     "execution_count": 9,
     "metadata": {},
     "output_type": "execute_result"
    }
   ],
   "source": [
    "get_ratios('puma', 'nta', data_path)"
   ]
  },
  {
   "cell_type": "code",
   "execution_count": 10,
   "id": "ce9c9f17",
   "metadata": {},
   "outputs": [
    {
     "name": "stderr",
     "output_type": "stream",
     "text": [
      "<ipython-input-8-befbb79bdca1>:27: RuntimeWarning: invalid value encountered in true_divide\n",
      "  ratio = super_res_sub/low_res_sub\n"
     ]
    },
    {
     "data": {
      "text/plain": [
       "180.55275909899214"
      ]
     },
     "execution_count": 10,
     "metadata": {},
     "output_type": "execute_result"
    }
   ],
   "source": [
    "get_ratios('puma', 'taxi', data_path)"
   ]
  },
  {
   "cell_type": "code",
   "execution_count": 11,
   "id": "95bbd48c",
   "metadata": {},
   "outputs": [
    {
     "name": "stderr",
     "output_type": "stream",
     "text": [
      "<ipython-input-8-befbb79bdca1>:27: RuntimeWarning: invalid value encountered in true_divide\n",
      "  ratio = super_res_sub/low_res_sub\n"
     ]
    },
    {
     "data": {
      "text/plain": [
       "47.583688586253615"
      ]
     },
     "execution_count": 11,
     "metadata": {},
     "output_type": "execute_result"
    }
   ],
   "source": [
    "get_ratios('puma', 'tract', data_path)"
   ]
  },
  {
   "cell_type": "code",
   "execution_count": 12,
   "id": "ef33389d",
   "metadata": {},
   "outputs": [
    {
     "name": "stderr",
     "output_type": "stream",
     "text": [
      "<ipython-input-8-befbb79bdca1>:27: RuntimeWarning: invalid value encountered in true_divide\n",
      "  ratio = super_res_sub/low_res_sub\n",
      "<ipython-input-8-befbb79bdca1>:27: RuntimeWarning: divide by zero encountered in true_divide\n",
      "  ratio = super_res_sub/low_res_sub\n"
     ]
    },
    {
     "data": {
      "text/plain": [
       "138.57072422741345"
      ]
     },
     "execution_count": 12,
     "metadata": {},
     "output_type": "execute_result"
    }
   ],
   "source": [
    "get_ratios('nta', 'taxi', data_path)"
   ]
  },
  {
   "cell_type": "code",
   "execution_count": 24,
   "id": "d31a5bba",
   "metadata": {},
   "outputs": [
    {
     "name": "stderr",
     "output_type": "stream",
     "text": [
      "<ipython-input-8-befbb79bdca1>:27: RuntimeWarning: invalid value encountered in true_divide\n",
      "  ratio = super_res_sub/low_res_sub\n"
     ]
    },
    {
     "data": {
      "text/plain": [
       "42.803425883585724"
      ]
     },
     "execution_count": 24,
     "metadata": {},
     "output_type": "execute_result"
    }
   ],
   "source": [
    "get_ratios('nta', 'tract', data_path)"
   ]
  },
  {
   "cell_type": "code",
   "execution_count": 25,
   "id": "70939b0c",
   "metadata": {},
   "outputs": [
    {
     "name": "stderr",
     "output_type": "stream",
     "text": [
      "<ipython-input-8-befbb79bdca1>:27: RuntimeWarning: invalid value encountered in true_divide\n",
      "  ratio = super_res_sub/low_res_sub\n",
      "<ipython-input-8-befbb79bdca1>:27: RuntimeWarning: divide by zero encountered in true_divide\n",
      "  ratio = super_res_sub/low_res_sub\n"
     ]
    },
    {
     "data": {
      "text/plain": [
       "27.290935375353374"
      ]
     },
     "execution_count": 25,
     "metadata": {},
     "output_type": "execute_result"
    }
   ],
   "source": [
    "get_ratios('taxi', 'tract', data_path)"
   ]
  }
 ],
 "metadata": {
  "kernelspec": {
   "display_name": "Python 3",
   "language": "python",
   "name": "python3"
  },
  "language_info": {
   "codemirror_mode": {
    "name": "ipython",
    "version": 3
   },
   "file_extension": ".py",
   "mimetype": "text/x-python",
   "name": "python",
   "nbconvert_exporter": "python",
   "pygments_lexer": "ipython3",
   "version": "3.8.8"
  }
 },
 "nbformat": 4,
 "nbformat_minor": 5
}
