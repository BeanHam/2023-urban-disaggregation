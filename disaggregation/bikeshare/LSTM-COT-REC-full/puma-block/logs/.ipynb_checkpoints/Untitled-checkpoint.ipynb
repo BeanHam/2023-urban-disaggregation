{
 "cells": [
  {
   "cell_type": "code",
   "execution_count": 1,
   "id": "106dd58a",
   "metadata": {},
   "outputs": [],
   "source": [
    "import numpy as np"
   ]
  },
  {
   "cell_type": "code",
   "execution_count": 2,
   "id": "99a93c61",
   "metadata": {},
   "outputs": [],
   "source": [
    "a = np.load('block_loss.npy')"
   ]
  },
  {
   "cell_type": "code",
   "execution_count": 3,
   "id": "577a0203",
   "metadata": {
    "scrolled": true
   },
   "outputs": [
    {
     "data": {
      "text/plain": [
       "307"
      ]
     },
     "execution_count": 3,
     "metadata": {},
     "output_type": "execute_result"
    }
   ],
   "source": [
    "len(a)"
   ]
  }
 ],
 "metadata": {
  "kernelspec": {
   "display_name": "Python 3 (ipykernel)",
   "language": "python",
   "name": "python3"
  },
  "language_info": {
   "codemirror_mode": {
    "name": "ipython",
    "version": 3
   },
   "file_extension": ".py",
   "mimetype": "text/x-python",
   "name": "python",
   "nbconvert_exporter": "python",
   "pygments_lexer": "ipython3",
   "version": "3.9.13"
  }
 },
 "nbformat": 4,
 "nbformat_minor": 5
}
