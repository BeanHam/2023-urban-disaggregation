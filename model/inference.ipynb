{
 "cells": [
  {
   "cell_type": "code",
   "execution_count": 4,
   "id": "31b03770",
   "metadata": {},
   "outputs": [],
   "source": [
    "import numpy as np\n",
    "import pandas as pd\n",
    "import matplotlib.pyplot as plt\n",
    "import json\n",
    "from utils import *\n",
    "from models import *"
   ]
  },
  {
   "cell_type": "code",
   "execution_count": 7,
   "id": "cd07fad2",
   "metadata": {},
   "outputs": [
    {
     "name": "stdout",
     "output_type": "stream",
     "text": [
      "Load Datasets...\n"
     ]
    }
   ],
   "source": [
    "################### unload parameters #################\n",
    "with open('parameters.json') as json_file:\n",
    "    parameters = json.load(json_file)\n",
    "    \n",
    "low_res_name = parameters['low_res_name']\n",
    "super_res_name = parameters['super_res_name']\n",
    "att_path = parameters['att_path']\n",
    "adj_path = parameters['adj_path']\n",
    "batch_size = parameters['batch_size']\n",
    "device = \"cuda\" if torch.cuda.is_available() else \"cpu\"\n",
    "\n",
    "################### load data #################\n",
    "print('Load Datasets...')\n",
    "\n",
    "att_low_res_path = att_path+low_res_name+'.npy'\n",
    "adj_low_res_path = adj_path+low_res_name+'.npy'\n",
    "att_super_res_path = att_path+super_res_name+'.npy'\n",
    "adj_super_res_path = adj_path+super_res_name+'.npy'\n",
    "_, _, dataset_test = load_data(att_low_res_path, adj_low_res_path, att_super_res_path, adj_super_res_path)"
   ]
  },
  {
   "cell_type": "code",
   "execution_count": 40,
   "id": "ac813fd4",
   "metadata": {},
   "outputs": [],
   "source": [
    "## load data\n",
    "X_low = torch.from_numpy(np.load(att_low_res_path)).float()\n",
    "X_super = torch.from_numpy(np.load(att_super_res_path)).float()"
   ]
  },
  {
   "cell_type": "code",
   "execution_count": 8,
   "id": "f38a49b8",
   "metadata": {
    "scrolled": true
   },
   "outputs": [
    {
     "data": {
      "text/plain": [
       "<All keys matched successfully>"
      ]
     },
     "execution_count": 8,
     "metadata": {},
     "output_type": "execute_result"
    }
   ],
   "source": [
    "model = GraphSR(dataset_test.adj_super.size(0)).to(device)\n",
    "criterion = nn.L1Loss().to(device)\n",
    "model.load_state_dict(torch.load(f'model_state/graphSR_{low_res_name}_{super_res_name}'))"
   ]
  },
  {
   "cell_type": "code",
   "execution_count": 10,
   "id": "6b52afc7",
   "metadata": {},
   "outputs": [
    {
     "name": "stdout",
     "output_type": "stream",
     "text": [
      "Test Loss: 0.0222\n"
     ]
    }
   ],
   "source": [
    "loss, pred_super, gt_super, gt_low = evaluation(model, criterion, device, batch_size, dataset_test)\n",
    "print(f'Test Loss: {round(loss, 4)}')"
   ]
  },
  {
   "cell_type": "code",
   "execution_count": 43,
   "id": "29aba613",
   "metadata": {},
   "outputs": [],
   "source": [
    "geodata_low_res = pd.read_csv('../data-processing/reality/geodata/nta.csv')\n",
    "geodata_super_res = pd.read_csv('../data-processing/reality/geodata/taxi.csv')"
   ]
  },
  {
   "cell_type": "code",
   "execution_count": 44,
   "id": "577c4a3b",
   "metadata": {},
   "outputs": [],
   "source": [
    "index = np.random.randint(0,874,1)\n",
    "gt_low = gt_low.cpu()\n",
    "gt_super = gt_super.cpu()\n",
    "pred_super = pred_super.cpu()\n",
    "geodata_low_res['count_gt'] = gt_low[index][0].detach().numpy()*torch.max(X_low).item()\n",
    "geodata_super_res['count_gt'] = gt_super[index][0].detach().numpy()*torch.max(X_super).item()\n",
    "geodata_super_res['count_pred'] = pred_super[index][0].detach().numpy()*torch.max(X_super).item()\n",
    "geodata_super_res['diff'] = torch.mean((pred_super - gt_super),dim=0).detach().numpy()*torch.max(X_super).item()"
   ]
  },
  {
   "cell_type": "code",
   "execution_count": 45,
   "id": "30a5aa38",
   "metadata": {},
   "outputs": [],
   "source": [
    "geodata_low_res.to_csv(f'visualization/vis_low_{low_res_name}_{super_res_name}.csv', header=True)\n",
    "geodata_super_res.to_csv(f'visualization/vis_super_{low_res_name}_{super_res_name}.csv', header=True)"
   ]
  }
 ],
 "metadata": {
  "kernelspec": {
   "display_name": "Python 3",
   "language": "python",
   "name": "python3"
  },
  "language_info": {
   "codemirror_mode": {
    "name": "ipython",
    "version": 3
   },
   "file_extension": ".py",
   "mimetype": "text/x-python",
   "name": "python",
   "nbconvert_exporter": "python",
   "pygments_lexer": "ipython3",
   "version": "3.8.8"
  }
 },
 "nbformat": 4,
 "nbformat_minor": 5
}
