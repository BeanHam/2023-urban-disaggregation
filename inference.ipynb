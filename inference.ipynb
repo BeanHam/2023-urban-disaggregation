{
 "cells": [
  {
   "cell_type": "code",
   "execution_count": 1,
   "id": "31b03770",
   "metadata": {},
   "outputs": [],
   "source": [
    "import numpy as np\n",
    "import pandas as pd\n",
    "import matplotlib.pyplot as plt\n",
    "from utils import *\n",
    "from models import *"
   ]
  },
  {
   "cell_type": "code",
   "execution_count": 7,
   "id": "f38a49b8",
   "metadata": {
    "scrolled": true
   },
   "outputs": [
    {
     "name": "stdout",
     "output_type": "stream",
     "text": [
      "Test Loss, Attention=0: 0.0337\n"
     ]
    }
   ],
   "source": [
    "root = '../data-processing'\n",
    "batch_size = 32\n",
    "device = torch.device(\"cuda\") if torch.cuda.is_available() else torch.device(\"cpu\")\n",
    "attention = 0\n",
    "_, _, dataset_test = load_data(root)\n",
    "model = GraphSR(attention).to(device)\n",
    "criterion = nn.L1Loss().to(device)\n",
    "model.load_state_dict(torch.load(f'model_state/graphSR_attention_{attention}'))\n",
    "loss, pred_super, gt_super, gt_low = evaluation(model, criterion, device, batch_size, dataset_test)\n",
    "print(f'Test Loss, Attention={attention}: {round(loss, 4)}')"
   ]
  },
  {
   "cell_type": "code",
   "execution_count": 8,
   "id": "29aba613",
   "metadata": {},
   "outputs": [],
   "source": [
    "geodata_low_res = np.load('../data-processing/geodata_low_resolution.npy', allow_pickle=True)\n",
    "geodata_super_res = np.load('../data-processing/geodata_super_resolution.npy', allow_pickle=True)"
   ]
  },
  {
   "cell_type": "code",
   "execution_count": 9,
   "id": "4a2103d5",
   "metadata": {},
   "outputs": [],
   "source": [
    "index = np.random.randint(0,874,1)\n",
    "gt_low = gt_low.cpu()\n",
    "gt_super = gt_super.cpu()\n",
    "pred_super = pred_super.cpu()\n",
    "vis_low = pd.DataFrame(np.concatenate([gt_low[index][0],  geodata_low_res[:,1].reshape(-1,1)],axis=1),\n",
    "                       columns=['taxi_count', 'polygon'])\n",
    "vis_super = pd.DataFrame(np.concatenate([gt_super[index][0],  \n",
    "                                         pred_super[index][0], \n",
    "                                         geodata_super_res[:,2].reshape(-1,1)],axis=1),\n",
    "                         columns=['taxi_count_gt', 'taxi_count_pred', 'polygon'])"
   ]
  },
  {
   "cell_type": "code",
   "execution_count": 11,
   "id": "30a5aa38",
   "metadata": {},
   "outputs": [],
   "source": [
    "vis_low.to_csv(f'visualization/vis_low_attention_{attention}.csv', header=True)\n",
    "vis_super.to_csv(f'visualization/vis_super_attention_{attention}.csv', header=True)"
   ]
  }
 ],
 "metadata": {
  "kernelspec": {
   "display_name": "Python 3",
   "language": "python",
   "name": "python3"
  },
  "language_info": {
   "codemirror_mode": {
    "name": "ipython",
    "version": 3
   },
   "file_extension": ".py",
   "mimetype": "text/x-python",
   "name": "python",
   "nbconvert_exporter": "python",
   "pygments_lexer": "ipython3",
   "version": "3.8.8"
  }
 },
 "nbformat": 4,
 "nbformat_minor": 5
}
